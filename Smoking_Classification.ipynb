{
  "nbformat": 4,
  "nbformat_minor": 0,
  "metadata": {
    "colab": {
      "provenance": [],
      "collapsed_sections": [
        "0IWbnWF502In",
        "eXPDjNmuAWZU"
      ],
      "mount_file_id": "1ISy01REp6At9fvt7MTkoUuTZjteg0nzx",
      "authorship_tag": "ABX9TyMue9JBMvztMSUk5s54+oN5",
      "include_colab_link": true
    },
    "kernelspec": {
      "name": "python3",
      "display_name": "Python 3"
    },
    "language_info": {
      "name": "python"
    }
  },
  "cells": [
    {
      "cell_type": "markdown",
      "metadata": {
        "id": "view-in-github",
        "colab_type": "text"
      },
      "source": [
        "<a href=\"https://colab.research.google.com/github/LucinoGarcia/CodeFolio/blob/main/Smoking_Classification.ipynb\" target=\"_parent\"><img src=\"https://colab.research.google.com/assets/colab-badge.svg\" alt=\"Open In Colab\"/></a>"
      ]
    },
    {
      "cell_type": "markdown",
      "metadata": {
        "id": "8KNTI7hVAEN1"
      },
      "source": [
        "# Part 0: Import Packages and Data\n"
      ]
    },
    {
      "cell_type": "code",
      "execution_count": null,
      "metadata": {
        "id": "7GYcFEbZS9LZ"
      },
      "outputs": [],
      "source": [
        "import pandas as pd\n",
        "import numpy as np\n",
        "import matplotlib.pyplot as plt\n",
        "import tensorflow as tf\n",
        "\n",
        "from sklearn.preprocessing import StandardScaler, LabelEncoder\n",
        "from sklearn.model_selection import train_test_split\n",
        "from sklearn.metrics import accuracy_score, confusion_matrix\n",
        "\n",
        "from tensorflow.keras import Sequential\n",
        "from tensorflow.keras.layers import Flatten, Dense, Dropout, BatchNormalization\n",
        "from tensorflow.keras.layers import Conv2D, MaxPool2D\n",
        "from tensorflow.keras.optimizers import Adam"
      ]
    },
    {
      "cell_type": "code",
      "execution_count": null,
      "metadata": {
        "id": "vdk8x4BMUfqC"
      },
      "outputs": [],
      "source": [
        "SmokingSamples = pd.read_csv('/content/drive/MyDrive/Smoking Paper/All_SmokingSamples.csv', header=None).fillna(0)#[:20000]\n",
        "NonSmokingSamples = pd.read_csv('/content/drive/MyDrive/Smoking Paper/All_NonSmokingSamples.csv', header=None).fillna(0)#[:20000]\n",
        "\n",
        "WorkingInputs = pd.concat([SmokingSamples, NonSmokingSamples], ignore_index=True)\n",
        "WorkingOutputs = pd.concat([pd.DataFrame(np.ones(len(SmokingSamples))), pd.DataFrame(np.zeros(len(NonSmokingSamples)))], ignore_index=True)\n",
        "\n",
        "del SmokingSamples, NonSmokingSamples"
      ]
    },
    {
      "cell_type": "markdown",
      "metadata": {
        "id": "Ipgw5T7pfDsv"
      },
      "source": [
        "# 1: Convolutional Neural Network"
      ]
    },
    {
      "cell_type": "markdown",
      "source": [
        "### 1.1 – Data Pre-Processing"
      ],
      "metadata": {
        "id": "0IWbnWF502In"
      }
    },
    {
      "cell_type": "code",
      "source": [
        "frames = []\n",
        "x = WorkingInputs.loc[:, :99]\n",
        "y = WorkingInputs.loc[:, 100:199]\n",
        "z = WorkingInputs.loc[:, 200:]\n",
        "frames.append([x, y, z])\n",
        "\n",
        "\n",
        "WorkingInputs = np.asarray(frames).reshape(-1, 100, 3)\n",
        "WorkingInputs.shape, WorkingOutputs.shape"
      ],
      "metadata": {
        "colab": {
          "base_uri": "https://localhost:8080/"
        },
        "id": "nHLNIEs83gG1",
        "outputId": "7a056b64-f0c3-44c6-db62-18fb02f61d0c"
      },
      "execution_count": null,
      "outputs": [
        {
          "output_type": "execute_result",
          "data": {
            "text/plain": [
              "((351530, 100, 3), (351530, 1))"
            ]
          },
          "metadata": {},
          "execution_count": 3
        }
      ]
    },
    {
      "cell_type": "code",
      "execution_count": null,
      "metadata": {
        "id": "45PP37TRfDco",
        "colab": {
          "base_uri": "https://localhost:8080/"
        },
        "outputId": "2e0190b6-1451-4d16-810d-b13eb042f62c"
      },
      "outputs": [
        {
          "output_type": "execute_result",
          "data": {
            "text/plain": [
              "((281224, 100, 3), (70306, 100, 3))"
            ]
          },
          "metadata": {},
          "execution_count": 4
        }
      ],
      "source": [
        "In_Train, In_Test, Out_Train, Out_Test =  train_test_split(WorkingInputs, WorkingOutputs, test_size = 0.2, random_state=321)\n",
        "In_Train.shape, In_Test.shape"
      ]
    },
    {
      "cell_type": "code",
      "source": [
        "# CNN accepts 3 dimentional data so we are going to reshape() our data\n",
        "In_Train = In_Train.reshape(In_Train.shape[0], 100, 3, 1)\n",
        "In_Test = In_Test.reshape(In_Test.shape[0], 100, 3, 1)"
      ],
      "metadata": {
        "id": "2s-C4ulx78i_"
      },
      "execution_count": null,
      "outputs": []
    },
    {
      "cell_type": "markdown",
      "metadata": {
        "id": "eXPDjNmuAWZU"
      },
      "source": [
        "### 1.2 – Building the CNN Model"
      ]
    },
    {
      "cell_type": "code",
      "execution_count": null,
      "metadata": {
        "colab": {
          "base_uri": "https://localhost:8080/"
        },
        "id": "RW5M00bcopUK",
        "outputId": "bd43ca9e-2e88-4a1b-cbf0-d6bc62d29cd6"
      },
      "outputs": [
        {
          "output_type": "stream",
          "name": "stdout",
          "text": [
            "Model: \"sequential\"\n",
            "_________________________________________________________________\n",
            " Layer (type)                Output Shape              Param #   \n",
            "=================================================================\n",
            " conv2d (Conv2D)             (None, 99, 2, 16)         80        \n",
            "                                                                 \n",
            " dropout (Dropout)           (None, 99, 2, 16)         0         \n",
            "                                                                 \n",
            " conv2d_1 (Conv2D)           (None, 98, 1, 32)         2080      \n",
            "                                                                 \n",
            " dropout_1 (Dropout)         (None, 98, 1, 32)         0         \n",
            "                                                                 \n",
            " flatten (Flatten)           (None, 3136)              0         \n",
            "                                                                 \n",
            " dense (Dense)               (None, 64)                200768    \n",
            "                                                                 \n",
            " dropout_2 (Dropout)         (None, 64)                0         \n",
            "                                                                 \n",
            " dense_1 (Dense)             (None, 1)                 65        \n",
            "                                                                 \n",
            "=================================================================\n",
            "Total params: 202,993\n",
            "Trainable params: 202,993\n",
            "Non-trainable params: 0\n",
            "_________________________________________________________________\n"
          ]
        }
      ],
      "source": [
        "CNN = Sequential()\n",
        "CNN.add(Conv2D(16, (2, 2), activation = 'relu', input_shape = In_Train[0].shape))\n",
        "CNN.add(Dropout(0.1))\n",
        "\n",
        "CNN.add(Conv2D(32, (2, 2), activation='relu'))\n",
        "CNN.add(Dropout(0.2))\n",
        "\n",
        "CNN.add(Flatten())\n",
        "\n",
        "CNN.add(Dense(64, activation = 'relu'))\n",
        "CNN.add(Dropout(0.5))\n",
        "\n",
        "CNN.add(Dense(1, activation='sigmoid'))\n",
        "\n",
        "\n",
        "CNN.compile(optimizer=Adam(learning_rate = 0.001), loss = 'binary_crossentropy', metrics = ['accuracy'])\n",
        "CNN.summary()"
      ]
    },
    {
      "cell_type": "markdown",
      "metadata": {
        "id": "8WWF7ozny3_2"
      },
      "source": [
        "### 1.3 – Training the CNN Model"
      ]
    },
    {
      "cell_type": "code",
      "execution_count": null,
      "metadata": {
        "colab": {
          "base_uri": "https://localhost:8080/"
        },
        "id": "unBbJLv0y4_K",
        "outputId": "3f948791-80c4-40a9-86cc-00b3b65e968c"
      },
      "outputs": [
        {
          "output_type": "stream",
          "name": "stdout",
          "text": [
            "Epoch 1/6\n",
            "1407/1407 [==============================] - 155s 109ms/step - loss: 0.3066 - accuracy: 0.8580 - val_loss: 0.2171 - val_accuracy: 0.9077\n",
            "Epoch 2/6\n",
            "1407/1407 [==============================] - 156s 111ms/step - loss: 0.2177 - accuracy: 0.9058 - val_loss: 0.1829 - val_accuracy: 0.9175\n",
            "Epoch 3/6\n",
            "1407/1407 [==============================] - 150s 107ms/step - loss: 0.1966 - accuracy: 0.9147 - val_loss: 0.1841 - val_accuracy: 0.9207\n",
            "Epoch 4/6\n",
            "1407/1407 [==============================] - 170s 121ms/step - loss: 0.1856 - accuracy: 0.9207 - val_loss: 0.1661 - val_accuracy: 0.9287\n",
            "Epoch 5/6\n",
            "1407/1407 [==============================] - 155s 111ms/step - loss: 0.1787 - accuracy: 0.9243 - val_loss: 0.1600 - val_accuracy: 0.9295\n",
            "Epoch 6/6\n",
            "1407/1407 [==============================] - 158s 112ms/step - loss: 0.1731 - accuracy: 0.9264 - val_loss: 0.1643 - val_accuracy: 0.9254\n"
          ]
        }
      ],
      "source": [
        "trainingEpochs = CNN.fit(In_Train, Out_Train, batch_size=200, epochs=6, validation_data= (In_Test, Out_Test), verbose=1)"
      ]
    },
    {
      "cell_type": "markdown",
      "source": [
        "### 1.4 – Loss v Epochs"
      ],
      "metadata": {
        "id": "Qxy8ualBCE_m"
      }
    },
    {
      "cell_type": "code",
      "source": [
        "epoch_range = range(1, 7)\n",
        "\n",
        "plt.plot(epoch_range, trainingEpochs.history['accuracy'])\n",
        "plt.plot(epoch_range, trainingEpochs.history['val_accuracy'])\n",
        "plt.title('CNN Accuracy')\n",
        "plt.ylabel('Accuracy')\n",
        "plt.xlabel('Epoch')\n",
        "plt.legend(['Train', 'Val'], loc='upper left')\n",
        "plt.show()\n",
        "\n",
        "plt.plot(epoch_range, trainingEpochs.history['loss'])\n",
        "plt.plot(epoch_range, trainingEpochs.history['val_loss'])\n",
        "plt.title('CNN Loss')\n",
        "plt.ylabel('Loss')\n",
        "plt.xlabel('Epoch')\n",
        "plt.legend(['Train', 'Val'], loc='upper right')\n",
        "plt.show()"
      ],
      "metadata": {
        "colab": {
          "base_uri": "https://localhost:8080/",
          "height": 927
        },
        "id": "685SGaRACEeO",
        "outputId": "dc40c177-2050-4a1a-9666-e5b230b2ef51"
      },
      "execution_count": null,
      "outputs": [
        {
          "output_type": "display_data",
          "data": {
            "text/plain": [
              "<Figure size 640x480 with 1 Axes>"
            ],
            "image/png": "[encoded data removed]"
          },
          "metadata": {}
        },
        {
          "output_type": "display_data",
          "data": {
            "text/plain": [
              "<Figure size 640x480 with 1 Axes>"
            ],
            "image/png": "[encoded data removed]"
          },
          "metadata": {}
        }
      ]
    },
    {
      "cell_type": "markdown",
      "metadata": {
        "id": "qyYTvQ5VKQDp"
      },
      "source": [
        "### 1.5 – Confusion Matrix and Model Evaluation"
      ]
    },
    {
      "cell_type": "code",
      "execution_count": null,
      "metadata": {
        "colab": {
          "base_uri": "https://localhost:8080/"
        },
        "id": "-RmpXHMDKUlN",
        "outputId": "7dac4ef2-166c-42f3-f6a3-ffcde065f462"
      },
      "outputs": [
        {
          "output_type": "stream",
          "name": "stdout",
          "text": [
            "2198/2198 [==============================] - 17s 8ms/step\n",
            "[[31735  2959]\n",
            " [ 2289 33323]]\n",
            "Test Sensitivity:  93.57 %\n",
            "Test Specificity:  91.47 %\n"
          ]
        }
      ],
      "source": [
        "pred_test = np.round(CNN.predict(In_Test))\n",
        "cmCNN = confusion_matrix(Out_Test, pred_test)\n",
        "print(cmCNN)\n",
        "\n",
        "cmValues = {'tn': cmCNN[0, 0], 'fp': cmCNN[0, 1], 'fn': cmCNN[1, 0], 'tp': cmCNN[1, 1]}\n",
        "print(\"Test Sensitivity: \", round(cmValues['tp'] / (cmValues['tp'] + cmValues['fn'])*100,2), \"%\")\n",
        "print(\"Test Specificity: \", round(cmValues['tn'] / (cmValues['fp'] + cmValues['tn'])*100,2), \"%\")"
      ]
    },
    {
      "cell_type": "markdown",
      "source": [
        "### 1.6 – Save CNN Model"
      ],
      "metadata": {
        "id": "9tSTKW3cbVmf"
      }
    },
    {
      "cell_type": "code",
      "source": [
        "from tensorflow.keras.models import load_model\n",
        "#CNN.save('/content/drive/MyDrive/Smoking Paper/Saved Models/CNN.hdf5')"
      ],
      "metadata": {
        "id": "fgC5EHsIYgH9"
      },
      "execution_count": null,
      "outputs": []
    }
  ]
}